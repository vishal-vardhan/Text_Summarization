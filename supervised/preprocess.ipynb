{
 "cells": [
  {
   "cell_type": "code",
   "execution_count": 6,
   "id": "eight-period",
   "metadata": {},
   "outputs": [],
   "source": [
    "from time import time\n",
    "import re\n",
    "import pandas as pd\n",
    "import numpy as np\n",
    "import spacy\n",
    "import matplotlib.pyplot as plt\n",
    "from constants import DATA_PATH, EXPORT_DATA_PATH"
   ]
  },
  {
   "cell_type": "code",
   "execution_count": 2,
   "id": "robust-means",
   "metadata": {},
   "outputs": [],
   "source": [
    "#Removes non-alphabetic characters:\n",
    "def textStrip(column):\n",
    "    for row in column:\n",
    "        \n",
    "        #ORDER OF REGEX IS VERY VERY IMPORTANT!!!!!!\n",
    "        \n",
    "        row=re.sub(\"(\\\\t)\", ' ', str(row)).lower() #remove escape charecters\n",
    "        row=re.sub(\"(\\\\r)\", ' ', str(row)).lower() \n",
    "        row=re.sub(\"(\\\\n)\", ' ', str(row)).lower()\n",
    "        \n",
    "        row=re.sub(\"(__+)\", ' ', str(row)).lower()   #remove _ if it occors more than one time consecutively\n",
    "        row=re.sub(\"(--+)\", ' ', str(row)).lower()   #remove - if it occors more than one time consecutively\n",
    "        row=re.sub(\"(~~+)\", ' ', str(row)).lower()   #remove ~ if it occors more than one time consecutively\n",
    "        row=re.sub(\"(\\+\\++)\", ' ', str(row)).lower()   #remove + if it occors more than one time consecutively\n",
    "        row=re.sub(\"(\\.\\.+)\", ' ', str(row)).lower()   #remove . if it occors more than one time consecutively\n",
    "        \n",
    "        row=re.sub(r\"[<>()|&©ø\\[\\]\\'\\\",;?~*!]\", ' ', str(row)).lower() #remove <>()|&©ø\"',;?~*!\n",
    "        \n",
    "        row=re.sub(\"(mailto:)\", ' ', str(row)).lower() #remove mailto:\n",
    "        row=re.sub(r\"(\\\\x9\\d)\", ' ', str(row)).lower() #remove \\x9* in text\n",
    "        row=re.sub(\"([iI][nN][cC]\\d+)\", 'INC_NUM', str(row)).lower() #replace INC nums to INC_NUM\n",
    "        row=re.sub(\"([cC][mM]\\d+)|([cC][hH][gG]\\d+)\", 'CM_NUM', str(row)).lower() #replace CM# and CHG# to CM_NUM\n",
    "        \n",
    "        \n",
    "        row=re.sub(\"(\\.\\s+)\", ' ', str(row)).lower() #remove full stop at end of words(not between)\n",
    "        row=re.sub(\"(\\-\\s+)\", ' ', str(row)).lower() #remove - at end of words(not between)\n",
    "        row=re.sub(\"(\\:\\s+)\", ' ', str(row)).lower() #remove : at end of words(not between)\n",
    "        \n",
    "        row=re.sub(\"(\\s+.\\s+)\", ' ', str(row)).lower() #remove any single charecters hanging between 2 spaces\n",
    "        \n",
    "        #Replace any url as such https://abc.xyz.net/browse/sdf-5327 ====> abc.xyz.net\n",
    "        try:\n",
    "            url = re.search(r'((https*:\\/*)([^\\/\\s]+))(.[^\\s]+)', str(row))\n",
    "            repl_url = url.group(3)\n",
    "            row = re.sub(r'((https*:\\/*)([^\\/\\s]+))(.[^\\s]+)',repl_url, str(row))\n",
    "        except:\n",
    "            pass #there might be emails with no url in them\n",
    "        \n",
    "\n",
    "        row = re.sub(\"(\\s+)\",' ',str(row)).lower() #remove multiple spaces\n",
    "        \n",
    "        #Should always be last\n",
    "        row=re.sub(\"(\\s+.\\s+)\", ' ', str(row)).lower() #remove any single charecters hanging between 2 spaces\n",
    "        \n",
    "        yield row"
   ]
  },
  {
   "cell_type": "code",
   "execution_count": 3,
   "id": "numeric-surge",
   "metadata": {},
   "outputs": [],
   "source": [
    "dataPath = DATA_PATH\n",
    "data = pd.read_csv(dataPath, encoding='iso-8859-1')\n",
    "data = data.rename(columns = {\"headlines\": \"summary\"}, inplace = False)"
   ]
  },
  {
   "cell_type": "code",
   "execution_count": 7,
   "id": "failing-nightmare",
   "metadata": {},
   "outputs": [
    {
     "name": "stdout",
     "output_type": "stream",
     "text": [
      "total time taken : 360.4237701892853\n"
     ]
    }
   ],
   "source": [
    "start = time()\n",
    "\n",
    "briefCleaning1 = textStrip(data['text'])\n",
    "briefCleaning2 = textStrip(data['summary'])\n",
    "\n",
    "nlp = spacy.load('en_core_web_sm', disable=['ner', 'parser'])\n",
    "start = time()\n",
    "cleanedText = [str(doc) for doc in nlp.pipe(briefCleaning1, batch_size=5000)]\n",
    "cleanedSummary = ['_START_ '+ str(doc) + ' _END_' for doc in nlp.pipe(briefCleaning2, batch_size=5000)]\n",
    "\n",
    "df = pd.DataFrame()\n",
    "df[\"text\"] = cleanedText\n",
    "df[\"summary\"] = cleanedSummary\n",
    "\n",
    "end = time()\n",
    "print(\"total time taken :\", (end-start))"
   ]
  },
  {
   "cell_type": "code",
   "execution_count": 8,
   "id": "latter-emergency",
   "metadata": {},
   "outputs": [
    {
     "data": {
      "text/plain": [
       "'saurav kant an alumnus of upgrad and iiit-b pg program in machine learning and artificial intelligence was sr systems engineer at infosys with almost years of work experience the program and upgrad 360-degree career support helped him transition to data scientist at tech mahindra with 90% salary hike upgrad online power learning has powered lakh+ careers.'"
      ]
     },
     "execution_count": 8,
     "metadata": {},
     "output_type": "execute_result"
    }
   ],
   "source": [
    "cleanedText[0]"
   ]
  },
  {
   "cell_type": "code",
   "execution_count": 9,
   "id": "mineral-holmes",
   "metadata": {},
   "outputs": [
    {
     "data": {
      "text/plain": [
       "'_START_ upgrad learner switches to career in ml al with 90% salary hike _END_'"
      ]
     },
     "execution_count": 9,
     "metadata": {},
     "output_type": "execute_result"
    }
   ],
   "source": [
    "cleanedSummary[0]"
   ]
  },
  {
   "cell_type": "code",
   "execution_count": 10,
   "id": "tracked-freight",
   "metadata": {},
   "outputs": [],
   "source": [
    "textCount = []\n",
    "summaryCount = []"
   ]
  },
  {
   "cell_type": "code",
   "execution_count": 11,
   "id": "settled-youth",
   "metadata": {},
   "outputs": [],
   "source": [
    "for sent in cleanedText:\n",
    "    textCount.append(len(sent.split()))\n",
    "for sent in cleanedSummary:\n",
    "    summaryCount.append(len(sent.split()))"
   ]
  },
  {
   "cell_type": "code",
   "execution_count": 12,
   "id": "egyptian-paraguay",
   "metadata": {},
   "outputs": [],
   "source": [
    "dist = pd.DataFrame()\n",
    "dist['text'] = textCount\n",
    "dist['summary'] = summaryCount"
   ]
  },
  {
   "cell_type": "code",
   "execution_count": 13,
   "id": "swiss-charleston",
   "metadata": {},
   "outputs": [
    {
     "data": {
      "image/png": "[encoded data removed]",
      "text/plain": [
       "<Figure size 432x288 with 2 Axes>"
      ]
     },
     "metadata": {
      "needs_background": "light"
     },
     "output_type": "display_data"
    }
   ],
   "source": [
    "dist.hist(bins = 5)\n",
    "plt.show()"
   ]
  },
  {
   "cell_type": "code",
   "execution_count": 15,
   "id": "conventional-bobby",
   "metadata": {},
   "outputs": [],
   "source": [
    "#Model to summarize the text between 0-15 words for Summary and 0-100 words for Text\n",
    "maxTextLen = 100\n",
    "maxSummaryLen = 15"
   ]
  },
  {
   "cell_type": "code",
   "execution_count": 16,
   "id": "chronic-tribe",
   "metadata": {},
   "outputs": [
    {
     "name": "stdout",
     "output_type": "stream",
     "text": [
      "0.9977337628682635\n"
     ]
    }
   ],
   "source": [
    "#Check how much % of summary have 0-15 words\n",
    "cnt = 0\n",
    "for i in cleanedSummary:\n",
    "    if(len(i.split()) <= maxSummaryLen):\n",
    "        cnt = cnt + 1\n",
    "print(cnt/len(cleanedSummary))"
   ]
  },
  {
   "cell_type": "code",
   "execution_count": 17,
   "id": "martial-retro",
   "metadata": {},
   "outputs": [
    {
     "name": "stdout",
     "output_type": "stream",
     "text": [
      "1.0\n"
     ]
    }
   ],
   "source": [
    "#Check how much % of text have 0-70 words\n",
    "cnt = 0\n",
    "for i in cleanedText:\n",
    "    if(len(i.split()) <= maxTextLen):\n",
    "        cnt = cnt + 1\n",
    "print(cnt/len(cleanedText))"
   ]
  },
  {
   "cell_type": "code",
   "execution_count": 18,
   "id": "wicked-evaluation",
   "metadata": {},
   "outputs": [],
   "source": [
    "#Select the Summaries and Text between max len defined above\n",
    "\n",
    "cleanedText = np.array(cleanedText)\n",
    "cleanedSummary = np.array(cleanedSummary)\n",
    "\n",
    "shortText = []\n",
    "shortSummary = []\n",
    "\n",
    "for i in range(len(cleanedText)):\n",
    "    if(len(cleanedSummary[i].split()) <= maxSummaryLen and len(cleanedText[i].split()) <= maxTextLen):\n",
    "        shortText.append(cleanedText[i])\n",
    "        shortSummary.append(cleanedSummary[i])\n",
    "        \n",
    "procData = pd.DataFrame({'text':shortText,'summary':shortSummary})"
   ]
  },
  {
   "cell_type": "code",
   "execution_count": 19,
   "id": "separate-myanmar",
   "metadata": {},
   "outputs": [
    {
     "data": {
      "text/html": [
       "<div>\n",
       "<style scoped>\n",
       "    .dataframe tbody tr th:only-of-type {\n",
       "        vertical-align: middle;\n",
       "    }\n",
       "\n",
       "    .dataframe tbody tr th {\n",
       "        vertical-align: top;\n",
       "    }\n",
       "\n",
       "    .dataframe thead th {\n",
       "        text-align: right;\n",
       "    }\n",
       "</style>\n",
       "<table border=\"1\" class=\"dataframe\">\n",
       "  <thead>\n",
       "    <tr style=\"text-align: right;\">\n",
       "      <th></th>\n",
       "      <th>text</th>\n",
       "      <th>summary</th>\n",
       "    </tr>\n",
       "  </thead>\n",
       "  <tbody>\n",
       "    <tr>\n",
       "      <th>0</th>\n",
       "      <td>saurav kant an alumnus of upgrad and iiit-b pg...</td>\n",
       "      <td>_START_ upgrad learner switches to career in m...</td>\n",
       "    </tr>\n",
       "    <tr>\n",
       "      <th>1</th>\n",
       "      <td>kunal shah credit card bill payment platform c...</td>\n",
       "      <td>_START_ delhi techie wins free food from swigg...</td>\n",
       "    </tr>\n",
       "  </tbody>\n",
       "</table>\n",
       "</div>"
      ],
      "text/plain": [
       "                                                text  \\\n",
       "0  saurav kant an alumnus of upgrad and iiit-b pg...   \n",
       "1  kunal shah credit card bill payment platform c...   \n",
       "\n",
       "                                             summary  \n",
       "0  _START_ upgrad learner switches to career in m...  \n",
       "1  _START_ delhi techie wins free food from swigg...  "
      ]
     },
     "execution_count": 19,
     "metadata": {},
     "output_type": "execute_result"
    }
   ],
   "source": [
    "procData.head(2)"
   ]
  },
  {
   "cell_type": "code",
   "execution_count": 20,
   "id": "continued-technology",
   "metadata": {},
   "outputs": [],
   "source": [
    "#Add sostok and eostok at \n",
    "procData['summary'] = procData['summary'].apply(lambda x : 'sostok '+ x + ' eostok')"
   ]
  },
  {
   "cell_type": "code",
   "execution_count": 21,
   "id": "cleared-projector",
   "metadata": {},
   "outputs": [
    {
     "data": {
      "text/html": [
       "<div>\n",
       "<style scoped>\n",
       "    .dataframe tbody tr th:only-of-type {\n",
       "        vertical-align: middle;\n",
       "    }\n",
       "\n",
       "    .dataframe tbody tr th {\n",
       "        vertical-align: top;\n",
       "    }\n",
       "\n",
       "    .dataframe thead th {\n",
       "        text-align: right;\n",
       "    }\n",
       "</style>\n",
       "<table border=\"1\" class=\"dataframe\">\n",
       "  <thead>\n",
       "    <tr style=\"text-align: right;\">\n",
       "      <th></th>\n",
       "      <th>text</th>\n",
       "      <th>summary</th>\n",
       "    </tr>\n",
       "  </thead>\n",
       "  <tbody>\n",
       "    <tr>\n",
       "      <th>0</th>\n",
       "      <td>saurav kant an alumnus of upgrad and iiit-b pg...</td>\n",
       "      <td>sostok _START_ upgrad learner switches to care...</td>\n",
       "    </tr>\n",
       "    <tr>\n",
       "      <th>1</th>\n",
       "      <td>kunal shah credit card bill payment platform c...</td>\n",
       "      <td>sostok _START_ delhi techie wins free food fro...</td>\n",
       "    </tr>\n",
       "  </tbody>\n",
       "</table>\n",
       "</div>"
      ],
      "text/plain": [
       "                                                text  \\\n",
       "0  saurav kant an alumnus of upgrad and iiit-b pg...   \n",
       "1  kunal shah credit card bill payment platform c...   \n",
       "\n",
       "                                             summary  \n",
       "0  sostok _START_ upgrad learner switches to care...  \n",
       "1  sostok _START_ delhi techie wins free food fro...  "
      ]
     },
     "execution_count": 21,
     "metadata": {},
     "output_type": "execute_result"
    }
   ],
   "source": [
    "procData.head(2)"
   ]
  },
  {
   "cell_type": "code",
   "execution_count": 22,
   "id": "seeing-forum",
   "metadata": {},
   "outputs": [],
   "source": [
    "# save data as csv\n",
    "df.to_csv(EXPORT_DATA_PATH)"
   ]
  },
  {
   "cell_type": "code",
   "execution_count": null,
   "id": "efficient-grace",
   "metadata": {},
   "outputs": [],
   "source": []
  },
  {
   "cell_type": "code",
   "execution_count": null,
   "id": "narrative-ticket",
   "metadata": {},
   "outputs": [],
   "source": []
  },
  {
   "cell_type": "code",
   "execution_count": null,
   "id": "approximate-monitoring",
   "metadata": {},
   "outputs": [],
   "source": []
  },
  {
   "cell_type": "code",
   "execution_count": null,
   "id": "correct-weekly",
   "metadata": {},
   "outputs": [],
   "source": []
  }
 ],
 "metadata": {
  "kernelspec": {
   "display_name": "Python 3",
   "language": "python",
   "name": "python3"
  },
  "language_info": {
   "codemirror_mode": {
    "name": "ipython",
    "version": 3
   },
   "file_extension": ".py",
   "mimetype": "text/x-python",
   "name": "python",
   "nbconvert_exporter": "python",
   "pygments_lexer": "ipython3",
   "version": "3.7.10"
  }
 },
 "nbformat": 4,
 "nbformat_minor": 5
}
